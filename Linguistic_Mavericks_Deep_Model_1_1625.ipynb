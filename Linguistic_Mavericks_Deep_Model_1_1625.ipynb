{
 "cells": [
  {
   "cell_type": "code",
   "execution_count": 1,
   "id": "a3332036-2c94-463a-837f-25845fbaf1c2",
   "metadata": {},
   "outputs": [
    {
     "name": "stdout",
     "output_type": "stream",
     "text": [
      "{'', 'O', 'I-GRP', 'B-CW', 'B-PER', 'B-PROD', 'I-CORP', 'B-LOC', 'I-PER', 'B-GRP', 'B-CORP', 'I-PROD', 'I-CW', 'I-LOC'}\n",
      "13\n"
     ]
    }
   ],
   "source": [
    "#Finding number of classes\n",
    "\n",
    "categories = set()\n",
    "with open(\"train.txt\") as file:\n",
    "    for line in file.readlines():\n",
    "        categories.add(line.split(\" \")[-1].strip())\n",
    "print(categories)\n",
    "print(len(categories) - 1)"
   ]
  },
  {
   "cell_type": "code",
   "execution_count": 2,
   "id": "8b5f830b-c76b-406e-851a-5ebd9ed49e9f",
   "metadata": {
    "tags": []
   },
   "outputs": [],
   "source": [
    "#Categorical Data to Numerical \n",
    "\n",
    "str_to_int = {\n",
    "    \"O\": 0,\n",
    "    \"B-CORP\": 1,\n",
    "    \"I-CORP\": 2,\n",
    "    \"B-CW\": 3,\n",
    "    \"I-CW\": 4,\n",
    "    \"B-GRP\": 5,\n",
    "    \"I-GRP\": 6,\n",
    "    \"B-LOC\": 7,\n",
    "    \"I-LOC\": 8,\n",
    "    \"B-PER\": 9,\n",
    "    \"I-PER\": 10,\n",
    "    \"B-PROD\": 11,\n",
    "    \"I-PROD\": 12,\n",
    "}\n",
    "\n",
    "label_list = [\n",
    "    \"O\",\n",
    "    \"B-corporation\",\n",
    "    \"I-corporation\",\n",
    "    \"B-creative-work\",\n",
    "    \"I-creative-work\",\n",
    "    \"B-group\",\n",
    "    \"I-group\",\n",
    "    \"B-location\",\n",
    "    \"I-location\",\n",
    "    \"B-person\",\n",
    "    \"I-person\",\n",
    "    \"B-product\",\n",
    "    \"I-product\",\n",
    "]"
   ]
  },
  {
   "cell_type": "code",
   "execution_count": 4,
   "id": "bc35808a-e416-492b-ae37-94d65af5c0e6",
   "metadata": {},
   "outputs": [
    {
     "name": "stdout",
     "output_type": "stream",
     "text": [
      "Keyring is skipped due to an exception: 'keyring.backends'\n",
      "Requirement already satisfied: torch in /opt/conda/lib/python3.7/site-packages (1.13.1)\n",
      "Requirement already satisfied: transformers in /opt/conda/lib/python3.7/site-packages (4.25.1)\n",
      "Requirement already satisfied: nvidia-cudnn-cu11==8.5.0.96 in /opt/conda/lib/python3.7/site-packages (from torch) (8.5.0.96)\n",
      "Requirement already satisfied: nvidia-cublas-cu11==11.10.3.66 in /opt/conda/lib/python3.7/site-packages (from torch) (11.10.3.66)\n",
      "Requirement already satisfied: nvidia-cuda-nvrtc-cu11==11.7.99 in /opt/conda/lib/python3.7/site-packages (from torch) (11.7.99)\n",
      "Requirement already satisfied: nvidia-cuda-runtime-cu11==11.7.99 in /opt/conda/lib/python3.7/site-packages (from torch) (11.7.99)\n",
      "Requirement already satisfied: typing-extensions in /opt/conda/lib/python3.7/site-packages (from torch) (4.4.0)\n",
      "Requirement already satisfied: wheel in /opt/conda/lib/python3.7/site-packages (from nvidia-cublas-cu11==11.10.3.66->torch) (0.34.2)\n",
      "Requirement already satisfied: setuptools in /opt/conda/lib/python3.7/site-packages (from nvidia-cublas-cu11==11.10.3.66->torch) (59.3.0)\n",
      "Requirement already satisfied: tokenizers!=0.11.3,<0.14,>=0.11.1 in /opt/conda/lib/python3.7/site-packages (from transformers) (0.13.2)\n",
      "Requirement already satisfied: requests in /opt/conda/lib/python3.7/site-packages (from transformers) (2.28.1)\n",
      "Requirement already satisfied: numpy>=1.17 in /opt/conda/lib/python3.7/site-packages (from transformers) (1.21.6)\n",
      "Requirement already satisfied: filelock in /opt/conda/lib/python3.7/site-packages (from transformers) (3.0.12)\n",
      "Requirement already satisfied: regex!=2019.12.17 in /opt/conda/lib/python3.7/site-packages (from transformers) (2022.10.31)\n",
      "Requirement already satisfied: pyyaml>=5.1 in /opt/conda/lib/python3.7/site-packages (from transformers) (6.0)\n",
      "Requirement already satisfied: importlib-metadata in /opt/conda/lib/python3.7/site-packages (from transformers) (5.1.0)\n",
      "Requirement already satisfied: tqdm>=4.27 in /opt/conda/lib/python3.7/site-packages (from transformers) (4.64.1)\n",
      "Requirement already satisfied: huggingface-hub<1.0,>=0.10.0 in /opt/conda/lib/python3.7/site-packages (from transformers) (0.11.1)\n",
      "Requirement already satisfied: packaging>=20.0 in /opt/conda/lib/python3.7/site-packages (from transformers) (23.0)\n",
      "Requirement already satisfied: zipp>=0.5 in /opt/conda/lib/python3.7/site-packages (from importlib-metadata->transformers) (3.11.0)\n",
      "Requirement already satisfied: idna<4,>=2.5 in /opt/conda/lib/python3.7/site-packages (from requests->transformers) (2.8)\n",
      "Requirement already satisfied: charset-normalizer<3,>=2 in /opt/conda/lib/python3.7/site-packages (from requests->transformers) (2.0.4)\n",
      "Requirement already satisfied: urllib3<1.27,>=1.21.1 in /opt/conda/lib/python3.7/site-packages (from requests->transformers) (1.26.13)\n",
      "Requirement already satisfied: certifi>=2017.4.17 in /opt/conda/lib/python3.7/site-packages (from requests->transformers) (2022.9.24)\n",
      "\u001b[33mWARNING: Running pip as the 'root' user can result in broken permissions and conflicting behaviour with the system package manager. It is recommended to use a virtual environment instead: https://pip.pypa.io/warnings/venv\u001b[0m\u001b[33m\n",
      "\u001b[0m"
     ]
    }
   ],
   "source": [
    "!pip install torch transformers \n",
    "import torch, pandas as pd\n",
    "from transformers import AutoModelForTokenClassification, AutoTokenizer, DataCollatorForTokenClassification, TrainingArguments, Trainer"
   ]
  },
  {
   "cell_type": "code",
   "execution_count": 5,
   "id": "3830d6b3-660a-41c2-aa52-d14034877e46",
   "metadata": {
    "tags": []
   },
   "outputs": [],
   "source": [
    "#Constructing dataset for model to train on \n",
    "\n",
    "dataset = []\n",
    "i = 0\n",
    "with open(\"train.txt\") as file:\n",
    "    tokens = []\n",
    "    tags = []\n",
    "    for line in file.readlines():\n",
    "        inp = line.split()\n",
    "        if len(inp) == 0:\n",
    "            dataset.append({\n",
    "                \"id\": i,\n",
    "                \"tags\": tags,\n",
    "                \"tokens\": tokens\n",
    "            })\n",
    "            i += 1\n",
    "            tags = []\n",
    "            tokens = []\n",
    "        else:\n",
    "            tokens.append(inp[0])\n",
    "            tags.append(inp[-1])"
   ]
  },
  {
   "cell_type": "code",
   "execution_count": 6,
   "id": "427512f9-ca3e-4aa2-a67c-7029e085f532",
   "metadata": {},
   "outputs": [],
   "source": [
    "#Ensuring subwords and special tokens are correctly labelled \n",
    "\n",
    "def tokenize_and_align(entry):\n",
    "    tokenized_entry = tokenizer(entry[\"tokens\"], truncation = True, is_split_into_words = True)\n",
    "    labels = entry[\"tags\"]\n",
    "    word_ids = tokenized_entry.word_ids()\n",
    "    \n",
    "    stretched_labels = []\n",
    "    curr_label_index = 0\n",
    "    \n",
    "    prev_w = None\n",
    "    for w in word_ids:\n",
    "        if w is None:\n",
    "            stretched_labels.append(-100)\n",
    "        elif w != prev_w:\n",
    "            stretched_labels.append(str_to_int[labels[curr_label_index]])\n",
    "            curr_label_index += 1\n",
    "        else:\n",
    "            stretched_labels.append(-100)\n",
    "        prev_w = w\n",
    "\n",
    "    tokenized_entry[\"labels\"] = stretched_labels\n",
    "    return tokenized_entry"
   ]
  },
  {
   "cell_type": "code",
   "execution_count": 7,
   "id": "ade21a7c-757b-41de-a6bf-9766022d2ac4",
   "metadata": {},
   "outputs": [],
   "source": [
    "#Mappings between categorical form and numeric form of labels \n",
    "id2label = {\n",
    "    0: \"O\",\n",
    "    1: \"B-corporation\",\n",
    "    2: \"I-corporation\",\n",
    "    3: \"B-creative-work\",\n",
    "    4: \"I-creative-work\",\n",
    "    5: \"B-group\",\n",
    "    6: \"I-group\",\n",
    "    7: \"B-location\",\n",
    "    8: \"I-location\",\n",
    "    9: \"B-person\",\n",
    "    10: \"I-person\",\n",
    "    11: \"B-product\",\n",
    "    12: \"I-product\",\n",
    "}\n",
    "label2id = {\n",
    "    \"O\": 0,\n",
    "    \"B-corporation\": 1,\n",
    "    \"I-corporation\": 2,\n",
    "    \"B-creative-work\": 3,\n",
    "    \"I-creative-work\": 4,\n",
    "    \"B-group\": 5,\n",
    "    \"I-group\": 6,\n",
    "    \"B-location\": 7,\n",
    "    \"I-location\": 8,\n",
    "    \"B-person\": 9,\n",
    "    \"I-person\": 10,\n",
    "    \"B-product\": 11,\n",
    "    \"I-product\": 12,\n",
    "}"
   ]
  },
  {
   "cell_type": "code",
   "execution_count": 8,
   "id": "1de245bd-a305-4b22-a6fe-c88bf304f0bb",
   "metadata": {},
   "outputs": [
    {
     "name": "stderr",
     "output_type": "stream",
     "text": [
      "Some weights of the model checkpoint at xlm-roberta-large were not used when initializing XLMRobertaForTokenClassification: ['lm_head.bias', 'lm_head.layer_norm.weight', 'lm_head.dense.bias', 'lm_head.layer_norm.bias', 'lm_head.dense.weight', 'lm_head.decoder.weight']\n",
      "- This IS expected if you are initializing XLMRobertaForTokenClassification from the checkpoint of a model trained on another task or with another architecture (e.g. initializing a BertForSequenceClassification model from a BertForPreTraining model).\n",
      "- This IS NOT expected if you are initializing XLMRobertaForTokenClassification from the checkpoint of a model that you expect to be exactly identical (initializing a BertForSequenceClassification model from a BertForSequenceClassification model).\n",
      "Some weights of XLMRobertaForTokenClassification were not initialized from the model checkpoint at xlm-roberta-large and are newly initialized: ['classifier.bias', 'classifier.weight']\n",
      "You should probably TRAIN this model on a down-stream task to be able to use it for predictions and inference.\n"
     ]
    }
   ],
   "source": [
    "model = AutoModelForTokenClassification.from_pretrained('xlm-roberta-large', num_labels = 13, id2label=id2label, label2id=label2id)\n",
    "tokenizer = AutoTokenizer.from_pretrained('xlm-roberta-large')"
   ]
  },
  {
   "cell_type": "code",
   "execution_count": 9,
   "id": "5090418e-55e7-44a2-af14-c95c40ee13ef",
   "metadata": {},
   "outputs": [],
   "source": [
    "tokenized_dataset = list(map(tokenize_and_align, dataset))"
   ]
  },
  {
   "cell_type": "code",
   "execution_count": 10,
   "id": "b3765138-c642-45a9-a808-05b857fc001d",
   "metadata": {
    "tags": []
   },
   "outputs": [
    {
     "name": "stdout",
     "output_type": "stream",
     "text": [
      "Keyring is skipped due to an exception: 'keyring.backends'\n",
      "Requirement already satisfied: evaluate in /opt/conda/lib/python3.7/site-packages (0.4.0)\n",
      "Requirement already satisfied: seqeval in /opt/conda/lib/python3.7/site-packages (1.2.2)\n",
      "Requirement already satisfied: xxhash in /opt/conda/lib/python3.7/site-packages (from evaluate) (3.2.0)\n",
      "Requirement already satisfied: tqdm>=4.62.1 in /opt/conda/lib/python3.7/site-packages (from evaluate) (4.64.1)\n",
      "Requirement already satisfied: packaging in /opt/conda/lib/python3.7/site-packages (from evaluate) (23.0)\n",
      "Requirement already satisfied: fsspec[http]>=2021.05.0 in /opt/conda/lib/python3.7/site-packages (from evaluate) (2022.11.0)\n",
      "Requirement already satisfied: responses<0.19 in /opt/conda/lib/python3.7/site-packages (from evaluate) (0.18.0)\n",
      "Requirement already satisfied: datasets>=2.0.0 in /opt/conda/lib/python3.7/site-packages (from evaluate) (2.8.0)\n",
      "Requirement already satisfied: huggingface-hub>=0.7.0 in /opt/conda/lib/python3.7/site-packages (from evaluate) (0.11.1)\n",
      "Requirement already satisfied: pandas in /opt/conda/lib/python3.7/site-packages (from evaluate) (1.3.5)\n",
      "Requirement already satisfied: importlib-metadata in /opt/conda/lib/python3.7/site-packages (from evaluate) (5.1.0)\n",
      "Requirement already satisfied: dill in /opt/conda/lib/python3.7/site-packages (from evaluate) (0.3.6)\n",
      "Requirement already satisfied: multiprocess in /opt/conda/lib/python3.7/site-packages (from evaluate) (0.70.14)\n",
      "Requirement already satisfied: requests>=2.19.0 in /opt/conda/lib/python3.7/site-packages (from evaluate) (2.28.1)\n",
      "Requirement already satisfied: numpy>=1.17 in /opt/conda/lib/python3.7/site-packages (from evaluate) (1.21.6)\n",
      "Requirement already satisfied: scikit-learn>=0.21.3 in /opt/conda/lib/python3.7/site-packages (from seqeval) (0.22.1)\n",
      "Requirement already satisfied: aiohttp in /opt/conda/lib/python3.7/site-packages (from datasets>=2.0.0->evaluate) (3.8.3)\n",
      "Requirement already satisfied: pyyaml>=5.1 in /opt/conda/lib/python3.7/site-packages (from datasets>=2.0.0->evaluate) (6.0)\n",
      "Requirement already satisfied: pyarrow>=6.0.0 in /opt/conda/lib/python3.7/site-packages (from datasets>=2.0.0->evaluate) (10.0.1)\n",
      "Requirement already satisfied: typing-extensions>=3.7.4.3 in /opt/conda/lib/python3.7/site-packages (from huggingface-hub>=0.7.0->evaluate) (4.4.0)\n",
      "Requirement already satisfied: filelock in /opt/conda/lib/python3.7/site-packages (from huggingface-hub>=0.7.0->evaluate) (3.0.12)\n",
      "Requirement already satisfied: urllib3<1.27,>=1.21.1 in /opt/conda/lib/python3.7/site-packages (from requests>=2.19.0->evaluate) (1.26.13)\n",
      "Requirement already satisfied: charset-normalizer<3,>=2 in /opt/conda/lib/python3.7/site-packages (from requests>=2.19.0->evaluate) (2.0.4)\n",
      "Requirement already satisfied: certifi>=2017.4.17 in /opt/conda/lib/python3.7/site-packages (from requests>=2.19.0->evaluate) (2022.9.24)\n",
      "Requirement already satisfied: idna<4,>=2.5 in /opt/conda/lib/python3.7/site-packages (from requests>=2.19.0->evaluate) (2.8)\n",
      "Requirement already satisfied: joblib>=0.11 in /opt/conda/lib/python3.7/site-packages (from scikit-learn>=0.21.3->seqeval) (0.14.1)\n",
      "Requirement already satisfied: scipy>=0.17.0 in /opt/conda/lib/python3.7/site-packages (from scikit-learn>=0.21.3->seqeval) (1.4.1)\n",
      "Requirement already satisfied: zipp>=0.5 in /opt/conda/lib/python3.7/site-packages (from importlib-metadata->evaluate) (3.11.0)\n",
      "Requirement already satisfied: python-dateutil>=2.7.3 in /opt/conda/lib/python3.7/site-packages (from pandas->evaluate) (2.8.2)\n",
      "Requirement already satisfied: pytz>=2017.3 in /opt/conda/lib/python3.7/site-packages (from pandas->evaluate) (2019.3)\n",
      "Requirement already satisfied: async-timeout<5.0,>=4.0.0a3 in /opt/conda/lib/python3.7/site-packages (from aiohttp->datasets>=2.0.0->evaluate) (4.0.2)\n",
      "Requirement already satisfied: attrs>=17.3.0 in /opt/conda/lib/python3.7/site-packages (from aiohttp->datasets>=2.0.0->evaluate) (22.1.0)\n",
      "Requirement already satisfied: asynctest==0.13.0 in /opt/conda/lib/python3.7/site-packages (from aiohttp->datasets>=2.0.0->evaluate) (0.13.0)\n",
      "Requirement already satisfied: aiosignal>=1.1.2 in /opt/conda/lib/python3.7/site-packages (from aiohttp->datasets>=2.0.0->evaluate) (1.3.1)\n",
      "Requirement already satisfied: multidict<7.0,>=4.5 in /opt/conda/lib/python3.7/site-packages (from aiohttp->datasets>=2.0.0->evaluate) (6.0.3)\n",
      "Requirement already satisfied: yarl<2.0,>=1.0 in /opt/conda/lib/python3.7/site-packages (from aiohttp->datasets>=2.0.0->evaluate) (1.8.2)\n",
      "Requirement already satisfied: frozenlist>=1.1.1 in /opt/conda/lib/python3.7/site-packages (from aiohttp->datasets>=2.0.0->evaluate) (1.3.3)\n",
      "Requirement already satisfied: six>=1.5 in /opt/conda/lib/python3.7/site-packages (from python-dateutil>=2.7.3->pandas->evaluate) (1.14.0)\n",
      "\u001b[33mWARNING: Running pip as the 'root' user can result in broken permissions and conflicting behaviour with the system package manager. It is recommended to use a virtual environment instead: https://pip.pypa.io/warnings/venv\u001b[0m\u001b[33m\n",
      "\u001b[0m"
     ]
    }
   ],
   "source": [
    "!pip install evaluate seqeval\n",
    "import evaluate\n",
    "seqeval = evaluate.load(\"seqeval\")"
   ]
  },
  {
   "cell_type": "code",
   "execution_count": 11,
   "id": "c0ac9f0e-59d7-45f9-a12a-048f5a66edae",
   "metadata": {
    "tags": []
   },
   "outputs": [],
   "source": [
    "#Helps us pad the input\n",
    "data_collator = DataCollatorForTokenClassification(tokenizer=tokenizer)"
   ]
  },
  {
   "cell_type": "code",
   "execution_count": 12,
   "id": "063d53af-e764-4758-9d2a-fccc427ce08a",
   "metadata": {
    "tags": []
   },
   "outputs": [
    {
     "name": "stderr",
     "output_type": "stream",
     "text": [
      "Loading model from fine_tuned_model-11/checkpoint-2500.\n",
      "/opt/conda/lib/python3.7/site-packages/transformers/optimization.py:310: FutureWarning: This implementation of AdamW is deprecated and will be removed in a future version. Use the PyTorch implementation torch.optim.AdamW instead, or set `no_deprecation_warning=True` to disable this warning\n",
      "  FutureWarning,\n",
      "***** Running training *****\n",
      "  Num examples = 15299\n",
      "  Num Epochs = 10\n",
      "  Instantaneous batch size per device = 16\n",
      "  Total train batch size (w. parallel, distributed & accumulation) = 16\n",
      "  Gradient Accumulation steps = 1\n",
      "  Total optimization steps = 9570\n",
      "  Number of trainable parameters = 558854157\n",
      "  Continuing training from checkpoint, will skip to saved global_step\n",
      "  Continuing training from epoch 2\n",
      "  Continuing training from global step 2500\n",
      "  Will skip the first 2 epochs then the first 586 batches in the first epoch. If this takes a lot of time, you can add the `--ignore_data_skip` flag to your launch command, but you will resume the training on data already seen by your model.\n"
     ]
    },
    {
     "data": {
      "application/vnd.jupyter.widget-view+json": {
       "model_id": "c1760f9031de4bbba451b57d92c8f99c",
       "version_major": 2,
       "version_minor": 0
      },
      "text/plain": [
       "  0%|          | 0/586 [00:00<?, ?it/s]"
      ]
     },
     "metadata": {},
     "output_type": "display_data"
    },
    {
     "name": "stderr",
     "output_type": "stream",
     "text": [
      "You're using a XLMRobertaTokenizerFast tokenizer. Please note that with a fast tokenizer, using the `__call__` method is faster than using a method to encode the text followed by a call to the `pad` method to get a padded encoding.\n"
     ]
    },
    {
     "data": {
      "text/html": [
       "\n",
       "    <div>\n",
       "      \n",
       "      <progress value='9570' max='9570' style='width:300px; height:20px; vertical-align: middle;'></progress>\n",
       "      [9570/9570 1:30:11, Epoch 10/10]\n",
       "    </div>\n",
       "    <table border=\"1\" class=\"dataframe\">\n",
       "  <thead>\n",
       " <tr style=\"text-align: left;\">\n",
       "      <th>Step</th>\n",
       "      <th>Training Loss</th>\n",
       "    </tr>\n",
       "  </thead>\n",
       "  <tbody>\n",
       "    <tr>\n",
       "      <td>3000</td>\n",
       "      <td>0.097800</td>\n",
       "    </tr>\n",
       "    <tr>\n",
       "      <td>3500</td>\n",
       "      <td>0.084100</td>\n",
       "    </tr>\n",
       "    <tr>\n",
       "      <td>4000</td>\n",
       "      <td>0.075500</td>\n",
       "    </tr>\n",
       "    <tr>\n",
       "      <td>4500</td>\n",
       "      <td>0.057600</td>\n",
       "    </tr>\n",
       "    <tr>\n",
       "      <td>5000</td>\n",
       "      <td>0.048200</td>\n",
       "    </tr>\n",
       "    <tr>\n",
       "      <td>5500</td>\n",
       "      <td>0.042000</td>\n",
       "    </tr>\n",
       "    <tr>\n",
       "      <td>6000</td>\n",
       "      <td>0.034000</td>\n",
       "    </tr>\n",
       "    <tr>\n",
       "      <td>6500</td>\n",
       "      <td>0.028000</td>\n",
       "    </tr>\n",
       "    <tr>\n",
       "      <td>7000</td>\n",
       "      <td>0.023700</td>\n",
       "    </tr>\n",
       "    <tr>\n",
       "      <td>7500</td>\n",
       "      <td>0.015800</td>\n",
       "    </tr>\n",
       "    <tr>\n",
       "      <td>8000</td>\n",
       "      <td>0.014600</td>\n",
       "    </tr>\n",
       "    <tr>\n",
       "      <td>8500</td>\n",
       "      <td>0.010800</td>\n",
       "    </tr>\n",
       "    <tr>\n",
       "      <td>9000</td>\n",
       "      <td>0.008400</td>\n",
       "    </tr>\n",
       "    <tr>\n",
       "      <td>9500</td>\n",
       "      <td>0.007600</td>\n",
       "    </tr>\n",
       "  </tbody>\n",
       "</table><p>"
      ],
      "text/plain": [
       "<IPython.core.display.HTML object>"
      ]
     },
     "metadata": {},
     "output_type": "display_data"
    },
    {
     "name": "stderr",
     "output_type": "stream",
     "text": [
      "Saving model checkpoint to fine_tuned_model-11/checkpoint-3000\n",
      "Configuration saved in fine_tuned_model-11/checkpoint-3000/config.json\n",
      "Model weights saved in fine_tuned_model-11/checkpoint-3000/pytorch_model.bin\n",
      "tokenizer config file saved in fine_tuned_model-11/checkpoint-3000/tokenizer_config.json\n",
      "Special tokens file saved in fine_tuned_model-11/checkpoint-3000/special_tokens_map.json\n",
      "Saving model checkpoint to fine_tuned_model-11/checkpoint-3500\n",
      "Configuration saved in fine_tuned_model-11/checkpoint-3500/config.json\n",
      "Model weights saved in fine_tuned_model-11/checkpoint-3500/pytorch_model.bin\n",
      "tokenizer config file saved in fine_tuned_model-11/checkpoint-3500/tokenizer_config.json\n",
      "Special tokens file saved in fine_tuned_model-11/checkpoint-3500/special_tokens_map.json\n",
      "Saving model checkpoint to fine_tuned_model-11/checkpoint-4000\n",
      "Configuration saved in fine_tuned_model-11/checkpoint-4000/config.json\n",
      "Model weights saved in fine_tuned_model-11/checkpoint-4000/pytorch_model.bin\n",
      "tokenizer config file saved in fine_tuned_model-11/checkpoint-4000/tokenizer_config.json\n",
      "Special tokens file saved in fine_tuned_model-11/checkpoint-4000/special_tokens_map.json\n",
      "Saving model checkpoint to fine_tuned_model-11/checkpoint-4500\n",
      "Configuration saved in fine_tuned_model-11/checkpoint-4500/config.json\n",
      "Model weights saved in fine_tuned_model-11/checkpoint-4500/pytorch_model.bin\n",
      "tokenizer config file saved in fine_tuned_model-11/checkpoint-4500/tokenizer_config.json\n",
      "Special tokens file saved in fine_tuned_model-11/checkpoint-4500/special_tokens_map.json\n",
      "Saving model checkpoint to fine_tuned_model-11/checkpoint-5000\n",
      "Configuration saved in fine_tuned_model-11/checkpoint-5000/config.json\n",
      "Model weights saved in fine_tuned_model-11/checkpoint-5000/pytorch_model.bin\n",
      "tokenizer config file saved in fine_tuned_model-11/checkpoint-5000/tokenizer_config.json\n",
      "Special tokens file saved in fine_tuned_model-11/checkpoint-5000/special_tokens_map.json\n",
      "Saving model checkpoint to fine_tuned_model-11/checkpoint-5500\n",
      "Configuration saved in fine_tuned_model-11/checkpoint-5500/config.json\n",
      "Model weights saved in fine_tuned_model-11/checkpoint-5500/pytorch_model.bin\n",
      "tokenizer config file saved in fine_tuned_model-11/checkpoint-5500/tokenizer_config.json\n",
      "Special tokens file saved in fine_tuned_model-11/checkpoint-5500/special_tokens_map.json\n",
      "Saving model checkpoint to fine_tuned_model-11/checkpoint-6000\n",
      "Configuration saved in fine_tuned_model-11/checkpoint-6000/config.json\n",
      "Model weights saved in fine_tuned_model-11/checkpoint-6000/pytorch_model.bin\n",
      "tokenizer config file saved in fine_tuned_model-11/checkpoint-6000/tokenizer_config.json\n",
      "Special tokens file saved in fine_tuned_model-11/checkpoint-6000/special_tokens_map.json\n",
      "Saving model checkpoint to fine_tuned_model-11/checkpoint-6500\n",
      "Configuration saved in fine_tuned_model-11/checkpoint-6500/config.json\n",
      "Model weights saved in fine_tuned_model-11/checkpoint-6500/pytorch_model.bin\n",
      "tokenizer config file saved in fine_tuned_model-11/checkpoint-6500/tokenizer_config.json\n",
      "Special tokens file saved in fine_tuned_model-11/checkpoint-6500/special_tokens_map.json\n",
      "Saving model checkpoint to fine_tuned_model-11/checkpoint-7000\n",
      "Configuration saved in fine_tuned_model-11/checkpoint-7000/config.json\n",
      "Model weights saved in fine_tuned_model-11/checkpoint-7000/pytorch_model.bin\n",
      "tokenizer config file saved in fine_tuned_model-11/checkpoint-7000/tokenizer_config.json\n",
      "Special tokens file saved in fine_tuned_model-11/checkpoint-7000/special_tokens_map.json\n",
      "Saving model checkpoint to fine_tuned_model-11/checkpoint-7500\n",
      "Configuration saved in fine_tuned_model-11/checkpoint-7500/config.json\n",
      "Model weights saved in fine_tuned_model-11/checkpoint-7500/pytorch_model.bin\n",
      "tokenizer config file saved in fine_tuned_model-11/checkpoint-7500/tokenizer_config.json\n",
      "Special tokens file saved in fine_tuned_model-11/checkpoint-7500/special_tokens_map.json\n",
      "Saving model checkpoint to fine_tuned_model-11/checkpoint-8000\n",
      "Configuration saved in fine_tuned_model-11/checkpoint-8000/config.json\n",
      "Model weights saved in fine_tuned_model-11/checkpoint-8000/pytorch_model.bin\n",
      "tokenizer config file saved in fine_tuned_model-11/checkpoint-8000/tokenizer_config.json\n",
      "Special tokens file saved in fine_tuned_model-11/checkpoint-8000/special_tokens_map.json\n",
      "Saving model checkpoint to fine_tuned_model-11/checkpoint-8500\n",
      "Configuration saved in fine_tuned_model-11/checkpoint-8500/config.json\n",
      "Model weights saved in fine_tuned_model-11/checkpoint-8500/pytorch_model.bin\n",
      "tokenizer config file saved in fine_tuned_model-11/checkpoint-8500/tokenizer_config.json\n",
      "Special tokens file saved in fine_tuned_model-11/checkpoint-8500/special_tokens_map.json\n",
      "Saving model checkpoint to fine_tuned_model-11/checkpoint-9000\n",
      "Configuration saved in fine_tuned_model-11/checkpoint-9000/config.json\n",
      "Model weights saved in fine_tuned_model-11/checkpoint-9000/pytorch_model.bin\n",
      "tokenizer config file saved in fine_tuned_model-11/checkpoint-9000/tokenizer_config.json\n",
      "Special tokens file saved in fine_tuned_model-11/checkpoint-9000/special_tokens_map.json\n",
      "Saving model checkpoint to fine_tuned_model-11/checkpoint-9500\n",
      "Configuration saved in fine_tuned_model-11/checkpoint-9500/config.json\n",
      "Model weights saved in fine_tuned_model-11/checkpoint-9500/pytorch_model.bin\n",
      "tokenizer config file saved in fine_tuned_model-11/checkpoint-9500/tokenizer_config.json\n",
      "Special tokens file saved in fine_tuned_model-11/checkpoint-9500/special_tokens_map.json\n",
      "\n",
      "\n",
      "Training completed. Do not forget to share your model on huggingface.co/models =)\n",
      "\n",
      "\n"
     ]
    },
    {
     "data": {
      "text/plain": [
       "TrainOutput(global_step=9570, training_loss=0.02870148509398274, metrics={'train_runtime': 5412.8288, 'train_samples_per_second': 28.264, 'train_steps_per_second': 1.768, 'total_flos': 1.4069196751437798e+16, 'train_loss': 0.02870148509398274, 'epoch': 10.0})"
      ]
     },
     "execution_count": 12,
     "metadata": {},
     "output_type": "execute_result"
    }
   ],
   "source": [
    "#Fine-tuning\n",
    "training_args = TrainingArguments(\n",
    "    output_dir=\"fine_tuned_model-11\",\n",
    "    learning_rate=2e-5,\n",
    "    per_device_train_batch_size=16,\n",
    "    num_train_epochs=10,\n",
    "    weight_decay=0.01,\n",
    ")\n",
    "\n",
    "trainer = Trainer(\n",
    "    model=model,\n",
    "    args=training_args,\n",
    "    train_dataset=tokenized_dataset,\n",
    "    tokenizer=tokenizer,\n",
    "    data_collator=data_collator,\n",
    ")\n",
    "\n",
    "trainer.train(resume_from_checkpoint = True)"
   ]
  },
  {
   "cell_type": "code",
   "execution_count": null,
   "id": "e9cab74d-8d20-4474-9da8-caa98a494591",
   "metadata": {},
   "outputs": [],
   "source": []
  }
 ],
 "metadata": {
  "instance_type": "ml.g4dn.xlarge",
  "kernelspec": {
   "display_name": "Python 3 (Data Science)",
   "language": "python",
   "name": "python3__SAGEMAKER_INTERNAL__arn:aws:sagemaker:us-east-1:081325390199:image/datascience-1.0"
  },
  "language_info": {
   "codemirror_mode": {
    "name": "ipython",
    "version": 3
   },
   "file_extension": ".py",
   "mimetype": "text/x-python",
   "name": "python",
   "nbconvert_exporter": "python",
   "pygments_lexer": "ipython3",
   "version": "3.7.10"
  }
 },
 "nbformat": 4,
 "nbformat_minor": 5
}
