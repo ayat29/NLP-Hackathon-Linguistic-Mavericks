{
 "cells": [
  {
   "cell_type": "code",
   "execution_count": 42,
   "id": "23562152-f0ba-41d0-bf79-85584f91c275",
   "metadata": {
    "tags": []
   },
   "outputs": [
    {
     "name": "stdout",
     "output_type": "stream",
     "text": [
      "Keyring is skipped due to an exception: 'keyring.backends'\n",
      "Requirement already satisfied: torch in /opt/conda/lib/python3.7/site-packages (1.13.1)\n",
      "Requirement already satisfied: transformers in /opt/conda/lib/python3.7/site-packages (4.25.1)\n",
      "Requirement already satisfied: typing-extensions in /opt/conda/lib/python3.7/site-packages (from torch) (4.4.0)\n",
      "Requirement already satisfied: nvidia-cublas-cu11==11.10.3.66 in /opt/conda/lib/python3.7/site-packages (from torch) (11.10.3.66)\n",
      "Requirement already satisfied: nvidia-cuda-runtime-cu11==11.7.99 in /opt/conda/lib/python3.7/site-packages (from torch) (11.7.99)\n",
      "Requirement already satisfied: nvidia-cuda-nvrtc-cu11==11.7.99 in /opt/conda/lib/python3.7/site-packages (from torch) (11.7.99)\n",
      "Requirement already satisfied: nvidia-cudnn-cu11==8.5.0.96 in /opt/conda/lib/python3.7/site-packages (from torch) (8.5.0.96)\n",
      "Requirement already satisfied: setuptools in /opt/conda/lib/python3.7/site-packages (from nvidia-cublas-cu11==11.10.3.66->torch) (59.3.0)\n",
      "Requirement already satisfied: wheel in /opt/conda/lib/python3.7/site-packages (from nvidia-cublas-cu11==11.10.3.66->torch) (0.34.2)\n",
      "Requirement already satisfied: tokenizers!=0.11.3,<0.14,>=0.11.1 in /opt/conda/lib/python3.7/site-packages (from transformers) (0.13.2)\n",
      "Requirement already satisfied: packaging>=20.0 in /opt/conda/lib/python3.7/site-packages (from transformers) (23.0)\n",
      "Requirement already satisfied: filelock in /opt/conda/lib/python3.7/site-packages (from transformers) (3.0.12)\n",
      "Requirement already satisfied: regex!=2019.12.17 in /opt/conda/lib/python3.7/site-packages (from transformers) (2022.10.31)\n",
      "Requirement already satisfied: importlib-metadata in /opt/conda/lib/python3.7/site-packages (from transformers) (5.1.0)\n",
      "Requirement already satisfied: numpy>=1.17 in /opt/conda/lib/python3.7/site-packages (from transformers) (1.21.6)\n",
      "Requirement already satisfied: tqdm>=4.27 in /opt/conda/lib/python3.7/site-packages (from transformers) (4.64.1)\n",
      "Requirement already satisfied: requests in /opt/conda/lib/python3.7/site-packages (from transformers) (2.28.1)\n",
      "Requirement already satisfied: huggingface-hub<1.0,>=0.10.0 in /opt/conda/lib/python3.7/site-packages (from transformers) (0.11.1)\n",
      "Requirement already satisfied: pyyaml>=5.1 in /opt/conda/lib/python3.7/site-packages (from transformers) (6.0)\n",
      "Requirement already satisfied: zipp>=0.5 in /opt/conda/lib/python3.7/site-packages (from importlib-metadata->transformers) (3.11.0)\n",
      "Requirement already satisfied: idna<4,>=2.5 in /opt/conda/lib/python3.7/site-packages (from requests->transformers) (2.8)\n",
      "Requirement already satisfied: charset-normalizer<3,>=2 in /opt/conda/lib/python3.7/site-packages (from requests->transformers) (2.0.4)\n",
      "Requirement already satisfied: urllib3<1.27,>=1.21.1 in /opt/conda/lib/python3.7/site-packages (from requests->transformers) (1.26.13)\n",
      "Requirement already satisfied: certifi>=2017.4.17 in /opt/conda/lib/python3.7/site-packages (from requests->transformers) (2022.9.24)\n",
      "\u001b[33mWARNING: Running pip as the 'root' user can result in broken permissions and conflicting behaviour with the system package manager. It is recommended to use a virtual environment instead: https://pip.pypa.io/warnings/venv\u001b[0m\u001b[33m\n",
      "\u001b[0m"
     ]
    }
   ],
   "source": [
    "!pip install torch transformers\n",
    "import torch \n",
    "from transformers import pipeline, AutoTokenizer"
   ]
  },
  {
   "cell_type": "code",
   "execution_count": 43,
   "id": "d866d1d4-a280-4927-9620-a5298bffb9a6",
   "metadata": {
    "tags": []
   },
   "outputs": [],
   "source": [
    "model_pipeline = pipeline(\"ner\", \"fine_tuned_model-11/checkpoint-9500\", ignore_labels = [])\n",
    "tokenizer = AutoTokenizer.from_pretrained('xlm-roberta-large')"
   ]
  },
  {
   "cell_type": "code",
   "execution_count": 44,
   "id": "53ec3813-f9d8-450a-9efe-3c62dc84d21d",
   "metadata": {
    "tags": []
   },
   "outputs": [],
   "source": [
    "#Constructing dataset from input file for performing inference\n",
    "\n",
    "input_file_path = \"test.txt\"\n",
    "dataset = []\n",
    "i = 0\n",
    "with open(input_file_path) as file:\n",
    "    tokens = []\n",
    "    for line in file.readlines():\n",
    "        inp = line.split()\n",
    "        if len(inp) == 0:\n",
    "            dataset.append({\n",
    "                \"id\": i,\n",
    "                \"tokens\": tokens\n",
    "            })\n",
    "            i += 1\n",
    "            tokens = []\n",
    "        else:\n",
    "            tokens.append(inp[0])\n",
    "dataset.append({\n",
    "                \"id\": i,\n",
    "                \"tokens\": ['প্রতিক্রিয়া', 'হিসাবে', 'ডাব্লিউডাব্লিউই', 'বিপদগুলির', 'উপর', 'চাপ', 'দেওয়া', 'এবং', 'ভক্তদের', 'তাদের', 'রিংয়ে', 'দেখা', 'ক্রিয়াকলাপগুলি', 'নকল', 'করা', 'থেকে', 'বিরত', 'রাখতে', 'চেয়েছিল', 'বিজ্ঞাপনগুলি', 'প্রচার', 'করা', 'শুরু', 'করে।']\n",
    "            })"
   ]
  },
  {
   "cell_type": "code",
   "execution_count": 49,
   "id": "6a2ff30b-1e9a-436b-bb2e-6dd8cc095c74",
   "metadata": {
    "tags": []
   },
   "outputs": [],
   "source": [
    "\n",
    "#Constructs sentences to perform inference on based on id in the constructed dataset\n",
    "def get_ids(i):\n",
    "    sentence = \"\"\n",
    "    for s in dataset[i][\"tokens\"]:\n",
    "        sentence += (s + \" \")\n",
    "   \n",
    "    tokenized_text = tokenizer(dataset[i][\"tokens\"], truncation = True, is_split_into_words = True)\n",
    "    word_ids = tokenized_text.word_ids()\n",
    "    return word_ids, sentence.strip()\n",
    "\n",
    "#Performs prediction based on dataset index \n",
    "def get_pred(i):\n",
    "    ids, sent = get_ids(i)\n",
    "  \n",
    "    res = model_pipeline(sent)\n",
    "\n",
    "    prev = None \n",
    "    new_res = []\n",
    "    for j, word_id in enumerate(ids[1:-1]):\n",
    "        if word_id is None: \n",
    "            continue\n",
    "        if prev != word_id:\n",
    "            new_res.append(res[j]['entity'])\n",
    "            prev = word_id\n",
    "    return new_res  \n"
   ]
  },
  {
   "cell_type": "code",
   "execution_count": 50,
   "id": "71ba42cd-c324-4bb2-9eec-4ffe5669c372",
   "metadata": {
    "tags": []
   },
   "outputs": [],
   "source": [
    "#Converting from labels used by the model to the ones used in the input file\n",
    "mapping = {\n",
    "    \"O\": \"O\",\n",
    "    \"B-corporation\": \"B-CORP\",\n",
    "    \"I-corporation\": \"I-CORP\",\n",
    "    \"B-creative-work\": \"B-CW\",\n",
    "    \"I-creative-work\": \"I-CW\",\n",
    "    \"B-group\": \"B-GRP\",\n",
    "    \"I-group\": \"I-GRP\",\n",
    "    \"B-location\": \"B-LOC\",\n",
    "    \"I-location\": \"I-LOC\",\n",
    "    \"B-person\": \"B-PER\",\n",
    "    \"I-person\": \"I-PER\",\n",
    "    \"B-product\": \"B-PROD\",\n",
    "    \"I-product\": \"I-PROD\",\n",
    "}"
   ]
  },
  {
   "cell_type": "code",
   "execution_count": null,
   "id": "d3859576-b09b-458f-ad3d-91fb04b55c24",
   "metadata": {
    "tags": []
   },
   "outputs": [
    {
     "name": "stderr",
     "output_type": "stream",
     "text": [
      " 49%|████▉     | 6499/13215 [23:45<25:08,  4.45it/s]"
     ]
    }
   ],
   "source": [
    "#Writing out inferences in a file\n",
    "from tqdm import tqdm\n",
    "with open(\"output_new.txt\", \"w\") as file:\n",
    "    for i in tqdm(range(len(dataset))):\n",
    "        pred = get_pred(i)\n",
    "        for ans in pred:\n",
    "            file.write(mapping[ans] + \"\\n\")\n",
    "        file.write(\"\\n\")\n",
    "    \n",
    "    "
   ]
  },
  {
   "cell_type": "code",
   "execution_count": null,
   "id": "2471bb27-aa99-494e-866c-356a0c825aac",
   "metadata": {},
   "outputs": [],
   "source": []
  }
 ],
 "metadata": {
  "instance_type": "ml.g4dn.xlarge",
  "kernelspec": {
   "display_name": "Python 3 (Data Science)",
   "language": "python",
   "name": "python3__SAGEMAKER_INTERNAL__arn:aws:sagemaker:us-east-1:081325390199:image/datascience-1.0"
  },
  "language_info": {
   "codemirror_mode": {
    "name": "ipython",
    "version": 3
   },
   "file_extension": ".py",
   "mimetype": "text/x-python",
   "name": "python",
   "nbconvert_exporter": "python",
   "pygments_lexer": "ipython3",
   "version": "3.7.10"
  }
 },
 "nbformat": 4,
 "nbformat_minor": 5
}
