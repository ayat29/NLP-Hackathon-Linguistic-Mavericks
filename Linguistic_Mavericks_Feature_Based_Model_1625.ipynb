{
 "cells": [
  {
   "cell_type": "code",
   "execution_count": 198,
   "id": "5ac370b3-2e57-4e17-a6de-7dd8b07f0c8c",
   "metadata": {},
   "outputs": [],
   "source": [
    "import pandas as pd\n",
    "import numpy as np\n",
    "from sklearn.model_selection import train_test_split\n",
    "from sklearn.tree import DecisionTreeClassifier\n",
    "from sklearn.ensemble import RandomForestClassifier\n",
    "from sklearn.metrics import accuracy_score, confusion_matrix, classification_report, f1_score\n",
    "from sklearn.ensemble import RandomForestRegressor\n",
    "from sklearn.model_selection import RandomizedSearchCV\n",
    "from sklearn.ensemble import GradientBoostingClassifier"
   ]
  },
  {
   "cell_type": "code",
   "execution_count": 199,
   "id": "236ad397-e49f-4f84-a9c8-dcc4684f4ef8",
   "metadata": {},
   "outputs": [],
   "source": [
    "import imblearn\n",
    "from imblearn import under_sampling, over_sampling\n",
    "from imblearn.over_sampling import SMOTE, ADASYN"
   ]
  },
  {
   "cell_type": "code",
   "execution_count": 200,
   "id": "d9bb5b82-7c3e-453f-a8c2-9c03ef7a7606",
   "metadata": {},
   "outputs": [
    {
     "name": "stderr",
     "output_type": "stream",
     "text": [
      "/opt/conda/lib/python3.7/site-packages/pandas/util/_decorators.py:311: ParserWarning: Falling back to the 'python' engine because the 'c' engine does not support regex separators (separators > 1 char and different from '\\s+' are interpreted as regex); you can avoid this warning by specifying engine='python'.\n",
      "  return func(*args, **kwargs)\n"
     ]
    }
   ],
   "source": [
    "df = pd.read_csv('nlp_hackathon_bd_2023/data/train.txt', sep=' _ _ ', header=None)\n",
    "test = pd.read_csv('nlp_hackathon_bd_2023/data/dev.txt', sep=' _ _ ', header=None)\n",
    "mainTest = pd.read_csv('test.txt', sep=' _ _ ', header=None)"
   ]
  },
  {
   "cell_type": "code",
   "execution_count": 201,
   "id": "e108f9ab-8027-43a3-8ca9-6bfd047de43b",
   "metadata": {
    "tags": []
   },
   "outputs": [
    {
     "data": {
      "text/html": [
       "<div>\n",
       "<style scoped>\n",
       "    .dataframe tbody tr th:only-of-type {\n",
       "        vertical-align: middle;\n",
       "    }\n",
       "\n",
       "    .dataframe tbody tr th {\n",
       "        vertical-align: top;\n",
       "    }\n",
       "\n",
       "    .dataframe thead th {\n",
       "        text-align: right;\n",
       "    }\n",
       "</style>\n",
       "<table border=\"1\" class=\"dataframe\">\n",
       "  <thead>\n",
       "    <tr style=\"text-align: right;\">\n",
       "      <th></th>\n",
       "      <th>0</th>\n",
       "    </tr>\n",
       "  </thead>\n",
       "  <tbody>\n",
       "    <tr>\n",
       "      <th>152437</th>\n",
       "      <td>বিজ্ঞাপনগুলি</td>\n",
       "    </tr>\n",
       "    <tr>\n",
       "      <th>152438</th>\n",
       "      <td>প্রচার</td>\n",
       "    </tr>\n",
       "    <tr>\n",
       "      <th>152439</th>\n",
       "      <td>করা</td>\n",
       "    </tr>\n",
       "    <tr>\n",
       "      <th>152440</th>\n",
       "      <td>শুরু</td>\n",
       "    </tr>\n",
       "    <tr>\n",
       "      <th>152441</th>\n",
       "      <td>করে।</td>\n",
       "    </tr>\n",
       "  </tbody>\n",
       "</table>\n",
       "</div>"
      ],
      "text/plain": [
       "                   0\n",
       "152437  বিজ্ঞাপনগুলি\n",
       "152438        প্রচার\n",
       "152439           করা\n",
       "152440          শুরু\n",
       "152441          করে।"
      ]
     },
     "execution_count": 201,
     "metadata": {},
     "output_type": "execute_result"
    }
   ],
   "source": [
    "mainTest.tail()"
   ]
  },
  {
   "cell_type": "code",
   "execution_count": 202,
   "id": "b00dfd35-c251-4a35-8da5-e7a0dbf8c5d4",
   "metadata": {},
   "outputs": [],
   "source": [
    "storeSpaceIndex = []\n",
    "with open('test.txt', 'r') as file:\n",
    "    i = 0\n",
    "    for line in file:\n",
    "        if line == '\\n':\n",
    "            storeSpaceIndex.append(i)\n",
    "        i += 1"
   ]
  },
  {
   "cell_type": "code",
   "execution_count": 203,
   "id": "f1c2dcf8-12eb-4174-a828-b080f9586857",
   "metadata": {},
   "outputs": [],
   "source": [
    "dict = {}\n",
    "key = 0\n",
    "for i in df.index:\n",
    "    if df[0][i] not in dict:\n",
    "        dict[df[0][i]] = key\n",
    "        key += 1"
   ]
  },
  {
   "cell_type": "code",
   "execution_count": 204,
   "id": "47a5cc05-85ed-410f-81f8-60b876fbce78",
   "metadata": {},
   "outputs": [],
   "source": [
    "df[0] = df[0].map(dict)\n",
    "test[0] = test[0].map(dict)\n",
    "mainTest[0] = mainTest[0].map(dict)"
   ]
  },
  {
   "cell_type": "code",
   "execution_count": 205,
   "id": "4df64224-4c0f-4f04-a421-bcfc4b518f33",
   "metadata": {},
   "outputs": [],
   "source": [
    "labelMapping = {'B-CORP':2, 'I-PROD':1, 'B-GRP':3, 'I-GRP':3, 'B-PROD':1, 'I-CW':5, \n",
    "                 'I-PER':6, 'B-LOC':4, 'I-CORP':2, 'O':0, 'B-PER':6, 'I-LOC':4, 'B-CW':5}\n",
    "df[1] = df[1].map(labelMapping)\n",
    "test[1] = test[1].map(labelMapping)"
   ]
  },
  {
   "cell_type": "code",
   "execution_count": 206,
   "id": "1d65e174-6b06-43bb-b4b4-c5e021c2dcf5",
   "metadata": {},
   "outputs": [],
   "source": [
    "test[0] = test[0].replace(np.nan, -1)\n",
    "mainTest[0] = mainTest[0].replace(np.nan, -1)"
   ]
  },
  {
   "cell_type": "code",
   "execution_count": 207,
   "id": "6be40eb5-dee3-4d44-b394-1abb4ab1168f",
   "metadata": {},
   "outputs": [],
   "source": [
    "X, y = pd.DataFrame(df[0]), pd.DataFrame(df[1])\n",
    "testX, testy =  pd.DataFrame(test[0]),  pd.DataFrame(test[1])\n",
    "mainTestX = pd.DataFrame(mainTest[0])"
   ]
  },
  {
   "cell_type": "code",
   "execution_count": 208,
   "id": "2e587976-4605-4035-8b4d-67221be24220",
   "metadata": {
    "tags": []
   },
   "outputs": [
    {
     "name": "stderr",
     "output_type": "stream",
     "text": [
      "/opt/conda/lib/python3.7/site-packages/ipykernel_launcher.py:2: DataConversionWarning: A column-vector y was passed when a 1d array was expected. Please change the shape of y to (n_samples,), for example using ravel().\n",
      "  \n"
     ]
    },
    {
     "data": {
      "text/html": [
       "<div>\n",
       "<style scoped>\n",
       "    .dataframe tbody tr th:only-of-type {\n",
       "        vertical-align: middle;\n",
       "    }\n",
       "\n",
       "    .dataframe tbody tr th {\n",
       "        vertical-align: top;\n",
       "    }\n",
       "\n",
       "    .dataframe thead th {\n",
       "        text-align: right;\n",
       "    }\n",
       "</style>\n",
       "<table border=\"1\" class=\"dataframe\">\n",
       "  <thead>\n",
       "    <tr style=\"text-align: right;\">\n",
       "      <th></th>\n",
       "      <th>0</th>\n",
       "      <th>1</th>\n",
       "      <th>2</th>\n",
       "      <th>3</th>\n",
       "      <th>4</th>\n",
       "      <th>5</th>\n",
       "      <th>6</th>\n",
       "      <th>accuracy</th>\n",
       "      <th>macro avg</th>\n",
       "      <th>weighted avg</th>\n",
       "    </tr>\n",
       "  </thead>\n",
       "  <tbody>\n",
       "    <tr>\n",
       "      <th>precision</th>\n",
       "      <td>0.914641</td>\n",
       "      <td>0.665158</td>\n",
       "      <td>0.652695</td>\n",
       "      <td>0.666667</td>\n",
       "      <td>0.563107</td>\n",
       "      <td>0.483516</td>\n",
       "      <td>0.672566</td>\n",
       "      <td>0.885996</td>\n",
       "      <td>0.659764</td>\n",
       "      <td>0.867545</td>\n",
       "    </tr>\n",
       "    <tr>\n",
       "      <th>recall</th>\n",
       "      <td>0.978160</td>\n",
       "      <td>0.460815</td>\n",
       "      <td>0.437751</td>\n",
       "      <td>0.523256</td>\n",
       "      <td>0.358025</td>\n",
       "      <td>0.156584</td>\n",
       "      <td>0.469136</td>\n",
       "      <td>0.885996</td>\n",
       "      <td>0.483389</td>\n",
       "      <td>0.885996</td>\n",
       "    </tr>\n",
       "    <tr>\n",
       "      <th>f1-score</th>\n",
       "      <td>0.945335</td>\n",
       "      <td>0.544444</td>\n",
       "      <td>0.524038</td>\n",
       "      <td>0.586319</td>\n",
       "      <td>0.437736</td>\n",
       "      <td>0.236559</td>\n",
       "      <td>0.552727</td>\n",
       "      <td>0.885996</td>\n",
       "      <td>0.546737</td>\n",
       "      <td>0.871311</td>\n",
       "    </tr>\n",
       "    <tr>\n",
       "      <th>support</th>\n",
       "      <td>8654.000000</td>\n",
       "      <td>319.000000</td>\n",
       "      <td>249.000000</td>\n",
       "      <td>344.000000</td>\n",
       "      <td>162.000000</td>\n",
       "      <td>281.000000</td>\n",
       "      <td>324.000000</td>\n",
       "      <td>0.885996</td>\n",
       "      <td>10333.000000</td>\n",
       "      <td>10333.000000</td>\n",
       "    </tr>\n",
       "  </tbody>\n",
       "</table>\n",
       "</div>"
      ],
      "text/plain": [
       "                     0           1           2           3           4  \\\n",
       "precision     0.914641    0.665158    0.652695    0.666667    0.563107   \n",
       "recall        0.978160    0.460815    0.437751    0.523256    0.358025   \n",
       "f1-score      0.945335    0.544444    0.524038    0.586319    0.437736   \n",
       "support    8654.000000  319.000000  249.000000  344.000000  162.000000   \n",
       "\n",
       "                    5           6  accuracy     macro avg  weighted avg  \n",
       "precision    0.483516    0.672566  0.885996      0.659764      0.867545  \n",
       "recall       0.156584    0.469136  0.885996      0.483389      0.885996  \n",
       "f1-score     0.236559    0.552727  0.885996      0.546737      0.871311  \n",
       "support    281.000000  324.000000  0.885996  10333.000000  10333.000000  "
      ]
     },
     "execution_count": 208,
     "metadata": {},
     "output_type": "execute_result"
    }
   ],
   "source": [
    "clf = RandomForestClassifier()\n",
    "rdclf = clf.fit(X, y)\n",
    "y_pred = rdclf.predict(testX)\n",
    "y_pred_main = rdclf.predict(mainTestX)\n",
    "pd.DataFrame(classification_report(testy, y_pred, output_dict=True))"
   ]
  },
  {
   "cell_type": "code",
   "execution_count": 222,
   "id": "b68edf01-4073-4a26-b65c-7d5f798ef4e5",
   "metadata": {
    "tags": []
   },
   "outputs": [],
   "source": [
    "y_pred_main = rdclf.predict(mainTestX)"
   ]
  },
  {
   "cell_type": "code",
   "execution_count": 224,
   "id": "c213587c-37b4-4092-8c26-204acec31e21",
   "metadata": {},
   "outputs": [],
   "source": [
    "mappingBack = {0:'O', 1:'PROD', 2:'CORP', 3:'GRP', 4:'LOC', 5:'CW', 6:'PER'}\n",
    "\n",
    "y_pred_main = pd.DataFrame(y_pred_main)[0].map(mappingBack)"
   ]
  },
  {
   "cell_type": "code",
   "execution_count": 226,
   "id": "d5fb10f1-f7bc-4e21-8450-41fe341dbaba",
   "metadata": {},
   "outputs": [],
   "source": [
    "final_pred = []\n",
    "spaceI = 0\n",
    "indexError = 0\n",
    "if y_pred_main[0] == 'O':\n",
    "    final_pred.append(y_pred_main[0]+'\\n')\n",
    "else:\n",
    "    final_pred.append('B-'+y_pred_main[0]+'\\n')\n",
    "    \n",
    "for i in range(1,len(y_pred_main)):\n",
    "    while spaceI<len(storeSpaceIndex) and i+indexError==storeSpaceIndex[spaceI]:\n",
    "        final_pred.append('\\n')\n",
    "        spaceI += 1\n",
    "        indexError += 1\n",
    "    if y_pred_main[i] != 'O':\n",
    "        if y_pred_main[i] == y_pred_main[i-1]:\n",
    "            final_pred.append('I-'+ y_pred_main[i]+'\\n')\n",
    "        else:\n",
    "            final_pred.append('B-'+ y_pred_main[i]+'\\n')\n",
    "    else:\n",
    "        final_pred.append(y_pred_main[i]+'\\n')"
   ]
  },
  {
   "cell_type": "code",
   "execution_count": 227,
   "id": "aad7c5b2-3b37-49f9-b643-3a1cfbe4a9e4",
   "metadata": {
    "tags": []
   },
   "outputs": [],
   "source": [
    "with open('ouput.txt','w') as file:\n",
    "    for e in final_pred:\n",
    "        file.write(e)"
   ]
  }
 ],
 "metadata": {
  "instance_type": "ml.g4dn.xlarge",
  "kernelspec": {
   "display_name": "Python 3 (Data Science)",
   "language": "python",
   "name": "python3__SAGEMAKER_INTERNAL__arn:aws:sagemaker:us-east-1:081325390199:image/datascience-1.0"
  },
  "language_info": {
   "codemirror_mode": {
    "name": "ipython",
    "version": 3
   },
   "file_extension": ".py",
   "mimetype": "text/x-python",
   "name": "python",
   "nbconvert_exporter": "python",
   "pygments_lexer": "ipython3",
   "version": "3.7.10"
  }
 },
 "nbformat": 4,
 "nbformat_minor": 5
}
